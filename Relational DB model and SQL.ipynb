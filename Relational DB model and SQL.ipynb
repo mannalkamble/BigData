{
 "cells": [
  {
   "cell_type": "markdown",
   "id": "6f8a1c70",
   "metadata": {},
   "source": [
    "Relational DB model and SQL"
   ]
  },
  {
   "cell_type": "markdown",
   "id": "5affe415",
   "metadata": {},
   "source": [
    "### Connecting to Postgres server"
   ]
  },
  {
   "cell_type": "code",
   "execution_count": 1,
   "id": "c4a13441",
   "metadata": {},
   "outputs": [
    {
     "name": "stdout",
     "output_type": "stream",
     "text": [
      "Connecting to the PostgreSQL database...\n",
      "PostgreSQL database version:\n",
      "('PostgreSQL 15.2 (Debian 15.2-1.pgdg110+1) on x86_64-pc-linux-gnu, compiled by gcc (Debian 10.2.1-6) 10.2.1 20210110, 64-bit',)\n"
     ]
    }
   ],
   "source": [
    "import psycopg2\n",
    "import json\n",
    "with open('db_cred.json','r') as j:\n",
    "    cred = json.load(j)\n",
    "print('Connecting to the PostgreSQL database...')\n",
    "conn = psycopg2.connect(\n",
    "    host=cred[\"host\"],\n",
    "    port=cred['port'],\n",
    "    database=cred[\"database\"],\n",
    "    user=cred[\"user\"],\n",
    "    password=cred[\"password\"])\n",
    "cur = conn.cursor()\n",
    "print('PostgreSQL database version:')\n",
    "cur.execute('SELECT version()')\n",
    "db_version = cur.fetchone()\n",
    "print(db_version)"
   ]
  },
  {
   "cell_type": "markdown",
   "id": "43924bc3",
   "metadata": {},
   "source": [
    "### Creating Authors table"
   ]
  },
  {
   "cell_type": "code",
   "execution_count": 2,
   "id": "50203da7",
   "metadata": {},
   "outputs": [],
   "source": [
    "cc = \"\"\" CREATE TABLE authors (\n",
    "                  author_id SERIAL PRIMARY KEY,\n",
    "                  name VARCHAR(1000) UNIQUE NOT NULL,\n",
    "                  ratings_count INTEGER NOT NULL,\n",
    "                  number_of_books INTEGER NOT NULL\n",
    "               )\n",
    "            \"\"\"\n",
    "\n",
    "cur.execute(cc)\n",
    "conn.commit()"
   ]
  },
  {
   "cell_type": "markdown",
   "id": "5f3f55eb",
   "metadata": {},
   "source": [
    "### Inserting Data into authors table. I am inserting the author name to reduce redundancy. ratings_count to have an easier access to number of ratings the books of the author have received. number_of_books to see how many books have been published by the author."
   ]
  },
  {
   "cell_type": "code",
   "execution_count": 3,
   "id": "3af8a666",
   "metadata": {},
   "outputs": [],
   "source": [
    "import csv\n",
    "from psycopg2.errors import UniqueViolation\n",
    "with open('books.csv', 'r',encoding = 'utf-8') as file:\n",
    "    reader = csv.reader(file)\n",
    "    # Skip the header row\n",
    "    next(reader)\n",
    "    # Loop through each row and insert it into the database\n",
    "    for row in reader:\n",
    "        # Extract the values from the row\n",
    "        author = row[2]\n",
    "        c = row[8]\n",
    "        if not author:\n",
    "            continue\n",
    "        else:\n",
    "            insert_statement = \"INSERT INTO authors (name,ratings_count,number_of_books) VALUES (%s, %s,%s);\"\n",
    "\n",
    "            try:\n",
    "                cur.execute(insert_statement,(author,c,1))\n",
    "                conn.commit()\n",
    "            except UniqueViolation:\n",
    "                conn.rollback()\n",
    "                cur.execute(\"SELECT ratings_count FROM authors WHERE name =%s;\",(author,))\n",
    "                r = cur.fetchone()[0]\n",
    "                cur.execute(\"SELECT number_of_books FROM authors WHERE name =%s;\",(author,))\n",
    "                n = cur.fetchone()[0]\n",
    "                if c:\n",
    "                    r = int(r)+ int(c)\n",
    "                if n:\n",
    "                    n = int(n) + 1\n",
    "                cur.execute(\"UPDATE authors SET ratings_count = %s, number_of_books = %s WHERE name = %s\",(r,n,author,))\n",
    "                conn.commit()"
   ]
  },
  {
   "cell_type": "markdown",
   "id": "9ea0335c",
   "metadata": {},
   "source": [
    "### Creating Publishers Table"
   ]
  },
  {
   "cell_type": "code",
   "execution_count": 4,
   "id": "c7a12f94",
   "metadata": {},
   "outputs": [],
   "source": [
    "cc = \"\"\" CREATE TABLE publishers (\n",
    "                  publisher_id SERIAL PRIMARY KEY,\n",
    "                  name VARCHAR(500) UNIQUE NOT NULL,\n",
    "                  number_of_pubs INTEGER NOT NULL\n",
    "                )\n",
    "            \"\"\"\n",
    "\n",
    "cur.execute(cc)\n",
    "conn.commit()\n"
   ]
  },
  {
   "cell_type": "markdown",
   "id": "0b84e2c5",
   "metadata": {},
   "source": [
    "### Inserting data into the publishers table"
   ]
  },
  {
   "cell_type": "code",
   "execution_count": 5,
   "id": "c0ab3d02",
   "metadata": {},
   "outputs": [],
   "source": [
    "with open('books.csv', 'r',encoding = 'utf-8') as file:\n",
    "    reader = csv.reader(file)\n",
    "    # Skip the header row\n",
    "    next(reader)\n",
    "    # Loop through each row and insert it into the database\n",
    "    for row in reader:\n",
    "        # Extract the values from the row\n",
    "        pub = row[11]\n",
    "        insert_statement = \"INSERT INTO publishers (name,number_of_pubs) VALUES (%s, %s);\"\n",
    "        try:\n",
    "            cur.execute(insert_statement,(pub,1))\n",
    "            conn.commit()\n",
    "        except UniqueViolation:\n",
    "            conn.rollback()\n",
    "            cur.execute(\"SELECT number_of_pubs FROM publishers WHERE name =%s;\",(pub,))\n",
    "            n = cur.fetchone()[0]\n",
    "            if n:\n",
    "                n = int(n) + 1\n",
    "            cur.execute(\"UPDATE publishers SET number_of_pubs = %s WHERE name = %s\",(n,pub,))\n",
    "            conn.commit()"
   ]
  },
  {
   "cell_type": "markdown",
   "id": "05105922",
   "metadata": {},
   "source": [
    "### Creating the books table"
   ]
  },
  {
   "cell_type": "code",
   "execution_count": 6,
   "id": "5199723f",
   "metadata": {},
   "outputs": [],
   "source": [
    "createCmd = \"\"\" CREATE TABLE books (\n",
    "                      book_id SERIAL PRIMARY KEY,\n",
    "                      title VARCHAR(255) NOT NULL,\n",
    "                      author_id INTEGER NOT NULL REFERENCES authors(author_id),\n",
    "                      average_rating FLOAT,\n",
    "                      isbn VARCHAR(13),\n",
    "                      isbn13 VARCHAR(13),\n",
    "                      language_code VARCHAR(10) NOT NULL,\n",
    "                      num_pages INTEGER NOT NULL,\n",
    "                      ratings_count INTEGER NOT NULL,\n",
    "                      text_reviews_count INTEGER NOT NULL, \n",
    "                      publication_date DATE,\n",
    "                      publisher_id INTEGER NOT NULL REFERENCES publishers(publisher_id)\n",
    "                )\n",
    "            \"\"\"\n",
    "    \n",
    "cur.execute(createCmd)\n",
    "conn.commit()"
   ]
  },
  {
   "cell_type": "markdown",
   "id": "72093cfb",
   "metadata": {},
   "source": [
    "### Inserting data into the books table with author_id, publisher_id being foreign keys."
   ]
  },
  {
   "cell_type": "code",
   "execution_count": null,
   "id": "89c90cc4",
   "metadata": {
    "scrolled": true
   },
   "outputs": [],
   "source": [
    "with open('books.csv', 'r',encoding = 'utf-8') as file:\n",
    "    reader = csv.reader(file)\n",
    "    # Skip the header row\n",
    "    next(reader)\n",
    "    # Loop through each row and insert it into the database\n",
    "    for row in reader:\n",
    "        # Extract the values from the row\n",
    "        s = 'SELECT author_id from authors where name = %s;'\n",
    "        cur.execute(s,(row[2],))\n",
    "        r = cur.fetchone()\n",
    "        if r is not None:\n",
    "            a = r[0]\n",
    "        s = 'SELECT publisher_id from publishers where name = %s;'\n",
    "        cur.execute(s,(row[11],))\n",
    "        r = cur.fetchone()\n",
    "        if r is not None:\n",
    "            p = r[0]\n",
    "        if row[0] != '' or row[1] != '':\n",
    "            insert_statement = \"INSERT INTO books (book_id,title,author_id,average_rating,isbn,isbn13,language_code,num_pages, ratings_count, text_reviews_count, publication_date, publisher_id) VALUES (%s,%s,%s,%s,%s,%s,%s,%s,%s,%s,%s,%s);\"\n",
    "            cur.execute(insert_statement,(row[0],row[1],a,row[3],row[4],row[5],row[6],row[7],row[8],row[9],row[10],p))\n",
    "            conn.commit()"
   ]
  },
  {
   "cell_type": "markdown",
   "id": "fedd616a",
   "metadata": {},
   "source": [
    "### Question 1 : What are the oldest 5 books in this dataset?"
   ]
  },
  {
   "cell_type": "code",
   "execution_count": null,
   "id": "6cc8eb7e",
   "metadata": {},
   "outputs": [],
   "source": [
    "s = 'SELECT title, publication_date FROM books ORDER BY publication_date LIMIT 5;'\n",
    "cur.execute(s)\n",
    "for i in cur:\n",
    "    print(i)"
   ]
  },
  {
   "cell_type": "markdown",
   "id": "faf4ea13",
   "metadata": {},
   "source": [
    "### Question 2 : Which 5 language codes have the highest rating average?  "
   ]
  },
  {
   "cell_type": "code",
   "execution_count": null,
   "id": "992fecf0",
   "metadata": {},
   "outputs": [],
   "source": [
    "s = 'SELECT language_code, AVG(average_rating) AS avg_rating FROM books GROUP BY language_code ORDER BY avg_rating DESC LIMIT 5;'\n",
    "cur.execute(s)\n",
    "for i in cur:\n",
    "    print(i)"
   ]
  },
  {
   "cell_type": "markdown",
   "id": "cf0439f0",
   "metadata": {},
   "source": [
    "### Question 3 : Which 5 authors have the highest number of ratings? "
   ]
  },
  {
   "cell_type": "code",
   "execution_count": null,
   "id": "a29d5e60",
   "metadata": {},
   "outputs": [],
   "source": [
    "s = 'SELECT name, ratings_count AS Number FROM authors ORDER BY ratings_count DESC LIMIT 5;'\n",
    "cur.execute(s)\n",
    "for i in cur:\n",
    "    print(i)"
   ]
  },
  {
   "cell_type": "markdown",
   "id": "b31d78dc",
   "metadata": {},
   "source": [
    "### Question 4 : Which publishers publish in the highest number of different languages? "
   ]
  },
  {
   "cell_type": "code",
   "execution_count": null,
   "id": "aa82ec4f",
   "metadata": {},
   "outputs": [],
   "source": [
    "s = 'SELECT publishers.name, COUNT(DISTINCT books.language_code) AS num_languages FROM books JOIN publishers ON books.publisher_id = publishers.publisher_id GROUP BY publishers.name ORDER BY num_languages DESC LIMIT 5;'\n",
    "cur.execute(s)\n",
    "for i in cur:\n",
    "    print(i)"
   ]
  },
  {
   "cell_type": "code",
   "execution_count": null,
   "id": "fc6f1958",
   "metadata": {},
   "outputs": [],
   "source": []
  },
  {
   "cell_type": "code",
   "execution_count": null,
   "id": "4ab5bcec",
   "metadata": {},
   "outputs": [],
   "source": []
  }
 ],
 "metadata": {
  "kernelspec": {
   "display_name": "Python 3 (ipykernel)",
   "language": "python",
   "name": "python3"
  },
  "language_info": {
   "codemirror_mode": {
    "name": "ipython",
    "version": 3
   },
   "file_extension": ".py",
   "mimetype": "text/x-python",
   "name": "python",
   "nbconvert_exporter": "python",
   "pygments_lexer": "ipython3",
   "version": "3.9.12"
  }
 },
 "nbformat": 4,
 "nbformat_minor": 5
}
