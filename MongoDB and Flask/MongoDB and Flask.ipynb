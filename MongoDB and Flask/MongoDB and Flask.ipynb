{
 "cells": [
  {
   "cell_type": "markdown",
   "id": "f61c6ced",
   "metadata": {},
   "source": [
    "MongoDB and Flask"
   ]
  },
  {
   "cell_type": "markdown",
   "id": "9ad011bb",
   "metadata": {},
   "source": [
    "### Please install these libraries. I am using bing-image-downlader for getting images of authors and requests to call APIs to fetch data related to the author"
   ]
  },
  {
   "cell_type": "code",
   "execution_count": null,
   "id": "1aec4751",
   "metadata": {},
   "outputs": [],
   "source": [
    "!pip install bing-image-downloader\n",
    "!pip install requests"
   ]
  },
  {
   "cell_type": "markdown",
   "id": "a8058fb9",
   "metadata": {},
   "source": [
    "### Getting the data from the CSV. Splitting the books with multiple authors. Making a dictionary and appending them to a list for adding it to the Mongo database"
   ]
  },
  {
   "cell_type": "code",
   "execution_count": 1,
   "id": "afa1c768",
   "metadata": {},
   "outputs": [],
   "source": [
    "import csv\n",
    "books1 = []\n",
    "with open('books.csv',encoding = 'utf-8') as file:\n",
    "    reader = csv.reader(file)\n",
    "    next(reader)\n",
    "    for row in reader:\n",
    "        authors = row[2].split('/')\n",
    "        for i in authors:\n",
    "            document = {\n",
    "                'bookID' : row[0],\n",
    "                'title': row[1],\n",
    "                'authors': i,\n",
    "                'average_rating' : row[3],\n",
    "                'publication_date': row[10],\n",
    "                'isbn': row[4],\n",
    "                'isbn13': row[5],\n",
    "                'language_code' : row[6],\n",
    "                'num_pages' : row[7],\n",
    "                'ratings_count' : row[8],\n",
    "                'text_reviews_count' : row[9],\n",
    "                'publisher' : row[11]\n",
    "                \n",
    "            }\n",
    "            books1.append(document)"
   ]
  },
  {
   "cell_type": "markdown",
   "id": "5958eff6",
   "metadata": {},
   "source": [
    "### Creating the MongoClient and inserting data into it"
   ]
  },
  {
   "cell_type": "code",
   "execution_count": 2,
   "id": "64c244f8",
   "metadata": {},
   "outputs": [
    {
     "data": {
      "text/plain": [
       "<pymongo.results.InsertManyResult at 0x23f7e58c730>"
      ]
     },
     "execution_count": 2,
     "metadata": {},
     "output_type": "execute_result"
    }
   ],
   "source": [
    "from pymongo import MongoClient\n",
    "client = MongoClient('localhost',27017) \n",
    "db = client[\"authors\"]\n",
    "collection = db[\"books\"]\n",
    "collection.insert_many(books1)"
   ]
  },
  {
   "cell_type": "markdown",
   "id": "6d002e9f",
   "metadata": {},
   "source": [
    "#### I have collected the following data with a library called selenium. It is the book names associated with the amazon IDs that were found from the Open Library API. I have included the code that i used to collect this data at the bottom. The code takes a long time to run as it has to emulate a browser and then pull the titles from them. I have done this because of the limitation of Amazon."
   ]
  },
  {
   "cell_type": "code",
   "execution_count": 3,
   "id": "0a0ca5c1",
   "metadata": {},
   "outputs": [],
   "source": [
    "jtitle = ['Harry Potter e il calice di fuoco: Rowling, J. K.: 9788893817059: Amazon.com: Books', \"Harry Potter and the Sorcerer's Stone: Minalima Edition (Japanese Edition): Rowling, J K: 9784863895669: Amazon.com: Books\", 'Harry Potter and the Half-Blood Prince - Hufflepuff Edition (relie): Rowling J.K.: 9781526618245: Amazon.com: Books', 'Harry Potter e il calice di fuoco: 9788862561518: Amazon.com: Books', 'Harry Potter and the Half-Blood Prince - Gryffindor Edition: Rowling J.K.: 9781526618238: Amazon.com: Books', 'HARRY POTTER Y LA PIEDRA FILOSOFAL / BOLSILLO: ROWLING, J. K.: 9786073193009: Amazon.com: Books', 'Hp and Pris of Azkaban Celebr Dumpbin: Rowling, J.K.: 9780747574286: Amazon.com: Books', 'Zabojcza biel: Robert Galbraith (J.K. Rowling): 9788327158772: Amazon.com: Books', 'Amazon.com: Sangre turbia / Troubled Blood (Cormoran Strike) (Spanish Edition): 9788418107917: Galbraith, Robert: Books', \"Le ver à soie: roman - traduit de l'anglais par Florianne VIdal (Grand Format): Galbraith, Robert, Rowling, J. K.: 9782246810667: Amazon.com: Books\", 'Ein plötzlicher Todesfall (German Edition): Rowling Joanne K.: 9783548285283: Amazon.com: Books', 'Harry Potter and the Goblet of Fire: J.K.Rowling: 9787020150700: Amazon.com: Books', \"Harry Potter and the Cursed Child, Parts 1 & 2 and Harry Potter and the Philosopher's Stone 2 Books Bundle Collection: J.K. Rowling, Jack Thorne, John Tiffany: 9789123513680: Amazon.com: Books\", 'Harry Potter and the Deathly Hallows Hufflepuff Edition: Rowling J.K: 9781526618351: Amazon.com: Books', 'Harry Potter T.1 (en vietnamien) Harry Potter Và Hòn Ðá Phù Thuy: ROWLING J.K. - J.K.: 9786041160002: Amazon.com: Books', 'HARRY POTTER AND THE PRISONER OF AZKABAN ILLUSTRATED ECITION: ROWLING J.K.: 9781526622808: Amazon.com: Books', 'Kviddich s drevnosti do nashikh dnei: Dzh. K. Roling: 9785353044598: Amazon.com: Books', 'Harry Potter and the Chamber of Secrets (Brian Selznick Cover Edition): Rowling, J K, Grandprae, Mary, Selznick, Brian, Rowling, J K: 9780606415194: Amazon.com: Books', 'Wolanie kukulki: Robert Galbraith (pseud. J.K. Rowling): 9788327150738: Amazon.com: Books', 'Amazon.com: Harry Potter Seti - 7 Kitap Kutulu: 9789750843877: J. K. Rowling: Books', \"Harry Potter House Gryffindor Edition Series 1-5 Books Collection Set By J.K. Rowling (Philosopher's Stone, Chamber of Secrets, Prisoner of Azkaban, Goblet of Fire, Order of the Phoenix): J.K. Rowling, Harry Potter Goblet Fire By J K Rowling, 978-1526610324, 1526610329, 9781526610324: 9789124083830: Amazon.com: Books\", 'HARRY POTTER E LA CRAMPA DEUS SECRETS (French Edition): J. K., ROWLING: 9782868660862: Amazon.com: Books', \"Harry Potter à l'école des sorciers: Serdaigle (French Edition): Rowling, J.K., Pinfold, Levi, Ménard, Jean-François: 9782075094559: Amazon.com: Books\", 'Der Ickabog: Rowling, J. K.: 9783551559203: Amazon.com: Books', \"Harry Potter House Gryffindor Edition Series 1-5 Books Collection Set By J.K. Rowling (Philosopher's Stone, Chamber of Secrets, Prisoner of Azkaban, Goblet of Fire, Order of the Phoenix): J.K. Rowling, Harry Potter & Order Phoenix Gryffindor By J.K. Rowling, 978-1526618146, 1526618141, 9781526618146, Prisoner of Azkaban By J.K. Rowling, 978-1526606167, 152660616X, 9781526606167, Philos Stone By J.K. Rowling, 978-1408883747, 1408883740, 9781408883747, Chamber of Secrets By J.K. Rowling, 978-1408898093, 1408898098, 9781408898093, Goblet Of Fire By J.K. Rowling, 978-1526610270, 1526610272, 9781526610270: 9789124087180: Amazon.com: Books\", 'The Christmas Pig: Rowling, J K: 9781804220276: Amazon.com: Books', 'Harry Potter And The Prisoner Of Azkaban (Turtleback School & Library Binding Edition): Rowling, J. K., Kibuishi, Kazu: 9780606323475: Amazon.com: Books', 'HARRY POTTER ET LA PIERRE PHILOSOPHALE I (CORÉEN): J.K. ROWLING: 9788983927620: Amazon.com: Books', \"L'ickabog: Rowling, J.K.: 9788418174407: Amazon.com: Books\", 'Harry Potter and the Half-Blood Prince. J.K. Rowling: Rowling, J K: 9780747598466: Amazon.com: Books', 'Amazon.com: Harry Potter y el prisionero de Azkaban (Harry Potter 3): 9788498389111: Rowling, J.K.: Books', 'Harry Potter y el prisionero de Azkaban (Harry Potter [edición ilustrada] 3): Rowling, J.K.: 9788498388268: Amazon.com: Books', 'Amazon.com: GUSSLM 1Q89F 41Q89W111alizer Tune1 Kyahaha of Ranjatai! : Electronics', 'Harry Potter e i doni della morte vol. 7 (Italian Edition): J. K. Rowling: 9788867158188: Amazon.com: Books', 'Harry Potter y la cámara secreta (Ed. bolsillo, cubierta clásica) (Harry Potter 2) (Spanish Edition): Rowling, J.K.: 9788498382679: Amazon.com: Books', \"Harry Potter House Slytherin Edition Series 11-15: 5 Books Collection Set By J.K. Rowling (Philosopher's Stone, Chamber of Secrets, Prisoner of Azkaban, Goblet of Fire, Order of The Phoenix): J.K. Rowling, Harry Potter and the Philosopher's Stone By J. K. Rowling, 978-1408883761, 1408883767, 9781408883761, Prisoner of Azkaban By J. K. Rowling, 978-1526606228, 1526606224, 9781526606228, Goblet Fire By J. K. Rowling, 978-1526610331, 1526610337, 9781526610331, Order Phoenix By J. K. Rowling, 978-1526618207, 1526618206, 9781526618207, Chamber of Secrets By J. K. Rowling, 978-1408898116, 140889811X, 9781408898116: 9781408898123: Amazon.com: Books\", 'Harry Potter and the Deathly Hallows (Brian Selznick Cover Edition): Rowling, J K, Grandprae, Mary, Selznick, Brian, Rowling, J K: 9780606415187: Amazon.com: Books', \"Harry Potter and the Philosopher's Stone: J K Rowling; Hye-Won Kim: 9784915512490: Amazon.com: Books\", \"Harry Potter and the Sorcerer's Stone (Book 1): J.K. Rowling, Jim Dale: 9780807281758: Amazon.com: Books\", 'Harry Potter and the Order of the Phoenix: ROWLING, J.K.: 9781551926438: Amazon.com: Books', 'O Ickabog (Em Portugues do Brasil): J.K Rowling: 9786555320220: Amazon.com: Books', \"Harry Potter House Ravenclaw Edition Series 16-20: 5 Books Collection Set By J.K. Rowling (Philosopher's Stone, Chamber of Secrets, Prisoner of Azkaban, Goblet of Fire, Order of The Phoenix): J.K. Rowling, Harry Potter and the Philosopher's Stone – Ravenclaw Edition By J.K. Rowling, 978-1408883778, 1408883775, 9781408883778, Harry Potter Goblet Fire By J.K. Rowling, 978-1526610324, 1526610329, 9781526610324, Harry Potter & Order Phoenix By J.K. Rowling, 978-1526618191, 1526618192, 9781526618191, Harry Potter and the Prisoner of Azkaban By J.K. Rowling, 978-1526606198, 1526606194, 9781526606198: 9789124083892: Amazon.com: Books\", \"Harry Potter House Ravenclaw Edition Series 16-20: 5 Books Collection Set By J.K. Rowling (Philosopher's Stone, Chamber of Secrets, Prisoner of Azkaban, Goblet of Fire, Order of The Phoenix): J.K. Rowling, Harry Potter and the Prisoner of Azkaban - Ravenclaw Edition By J.K. Rowling, 978-1526606181, 1526606186, 9781526606181, Philosopher's Stone By J.K. Rowling, 978-1408883785, 1408883783, 9781408883785, Goblet Fire By J.K. Rowling, 978-1526610317, 1526610310, 9781526610317, Chamber of Secrets By J.K. Rowling, 978-1408898130, 1408898136, 9781408898130, Order Phoenix By J.K. Rowling, 978-1526618184, 1526618184, 9781526618184: 9789124087197: Amazon.com: Books\", 'J.K. Rowling Collection 3 Books Set (Fantastic Beasts and Where to Find Them, The Crimes of Grindelwald, Harry Potter and the Cursed Child - Parts One and Two): J.K. Rowling, Harry Potter and the Cursed Child, Parts One and Two By J.K. Rowling, 978-1338216660, 133821666X, 9781338216660, Fantastic Beasts: The Crimes of Grindelwald By J.K. Rowling, 978-0751578287, 0751578282, 9780751578287, Fantastic Beasts & Where Find Them By J.K. Rowling, 978-1526620316, 1526620316, 9781526620316: 9789124078867: Amazon.com: Books', 'Amazon.com: Harry Potter y la Orden del Fénix (Harry Potter 5): 9788498384451: Rowling, J.K.: Books', \"HARRY POTTER A L'ECOLE DES SORCIERS (French Edition): ROWLING: 9782840116462: Amazon.com: Books\", 'Fantastic Beasts & Where to Find Them (Harry Potter): Scamander, Newt: 9780545850568: Amazon.com: Books', \"Harry Potter and the Philosopher's Stone (Book 1) [Adult Edition]: J. K. Rowling: 9781551927008: Amazon.com: Books\"]\n",
    "stitle = ['DARK HALF: King Stephen: 9785550707005: Amazon.com: Books', 'The Hundred Year Christmas - Signed - 1 / 1000: David Morrell, Stephen King ( Quote ), Cortney Skinner, Cortney Skinner: 9781892950383: Amazon.com: Books', 'Thinner: king, stephen [writing as richard bachman]: 9780340794203: Amazon.com: Books', \"Everything's Eventual: 14 Dark Tales: King: 9780743457361: Amazon.com: Books\", 'Hayati emen karanlik: STEPHEN KING: 9789752124271: Amazon.com: Books', 'Insomnia: Stephen King,Farrow,Stephen King: 9780340952795: Amazon.com: Books', 'Das Mädchen: 9783548840123: Amazon.com: Books', 'Gvendi i ee shkatulka: King Stiven: 9785171066086: Amazon.com: Books', 'Les Tommyknockers: King, Stephen: 9782253151463: Amazon.com: Books', 'If It Bleeds: 9781529391589: Amazon.com: Books', 'Desperation Export Dummy ISBN: Stephen, King: 9780340685372: Amazon.com: Books', 'DOCTOR SUEÑO: KING, STEPHEN: 9786073148627: Amazon.com: Books', \"End of Watch A Writer's Journal: Glenn Chadbourne, Stephen King (based on a book by), Glenn Chadbourne: 9781623300746: Amazon.com: Books\", 'The Regulators: Stephen King,Richard Bachman,Stephen King: 9780340952276: Amazon.com: Books', 'Marzenia i koszmary: King Stephen Straub Peter: 9788378857631: Amazon.com: Books', 'Full Dark No Stars Archival Slipcase ( Slipcase Only - Acid-Free ): based on a book by Stephen King: 9781623300197: Amazon.com: Books', 'THE OUTSIDER*: KING STEPHEN: 9781473676435: Amazon.com: Books', 'Wind (German Edition): King Stephen: 9783453410831: Amazon.com: Books', 'Duma Key: Stephen King,Stephen King: 9780340952214: Amazon.com: Books', 'Blaze: Bachman, Richard (King, Stephen): 9780340952245: Amazon.com: Books', 'Carrie: king, stephen: 9780340922842: Amazon.com: Books', 'Dreamcatcher: Stephen King: 9780340853078: Amazon.com: Books', 'Bellas durmientes: Stephen King / Owen King: 9786073162722: Amazon.com: Books', \"Stephen King 2 Books Collection Set ('Salem's Lot, Billy Summers [Hardcover]): Stephen King, Billy Summers By Stephen King, 978-1982173616, 1982173610, 9781982173616, 'Salem's Lot By Stephen King, 978-0345806796, 0345806794, 9780345806796: 9789124143428: Amazon.com: Books\", \"The Sandman: World's End (Sandman): King (Foreward), Stephen: 9781852866099: Amazon.com: Books\", 'O Concorrente: Stephen King: 9788573028027: Amazon.com: Books', 'Fleau ****** epouvante (Le) (IMAGINAIRE): king stephen: 9782277223269: Amazon.com: Books', 'Drei (German Edition): 9783453875579: Amazon.com: Books']\n",
    "gtitle = ['CRONICA DE UNA MUERTE ANUNCIADA: GARCIA MARQUEZ Gabriel: 9789588886176: Amazon.com: Books', 'Osen patriarha: Marquez Gabriel Garcia: 9785170801046: Amazon.com: Books', 'El coronel no tiene quien le escriba (Literatura Random House) (Spanish Edition): GARCIA MARQUEZ,GABRIEL: 9788439719724: Amazon.com: Books', 'Dwie samotnosci. Dialog mistrzów: Gabriel Garcia Marquez, Mario Vargas Llosa: 9788328716421: Amazon.com: Books', 'Milosc w czasach zarazy: Marquez Gabriel Garcia: 9788377580202: Amazon.com: Books', 'Un Veac De Singuratate (Romanian Edition): Gabriel Garcia Marquez: 9786066098403: Amazon.com: Books', 'The Story of a Shipwrecked Sailor: Library Edition: Garcia Marquez, Gabriel, Tiedemann, Gary, Hogan, Randolph: 9781665039833: Amazon.com: Books', 'Chronicle of a Death Foretold: Garcia Marquez, Gabriel: 9780345007452: Amazon.com: Books', 'Kolera Gunlerinde Ask : Roman (Turkish Edition): Gabriel Garcia Marquez: 9789755100227: Amazon.com: Books']"
   ]
  },
  {
   "cell_type": "markdown",
   "id": "8ab4eca1",
   "metadata": {},
   "source": [
    "#### Calling the API, getting the key. Calling the API again with the key. Adding the bio, Amazon product code and Product names to the database"
   ]
  },
  {
   "cell_type": "code",
   "execution_count": 4,
   "id": "2bd81b71",
   "metadata": {},
   "outputs": [
    {
     "data": {
      "text/plain": [
       "<pymongo.results.UpdateResult at 0x23f7adfea00>"
      ]
     },
     "execution_count": 4,
     "metadata": {},
     "output_type": "execute_result"
    }
   ],
   "source": [
    "import requests\n",
    "jk_rowling = collection.find_one({\"authors\": \"J.K. Rowling\"})\n",
    "jk_rowling_key = requests.get(f\"https://openlibrary.org/search/authors.json?q=jk%20rowling\").json()[\"docs\"][0][\"key\"]\n",
    "jk_rowling_info = requests.get(f\"https://openlibrary.org/authors/{jk_rowling_key}.json\").json()\n",
    "amaz = []\n",
    "for i in jk_rowling_info['source_records']:\n",
    "    if i[0:6] == 'amazon':\n",
    "        j = i.split(':')\n",
    "        amaz.append(j[1])\n",
    "collection.update_one({\"authors\": \"J.K. Rowling\"}, {\"$set\": {\"bio\": jk_rowling_info['bio']}})\n",
    "collection.update_one({\"authors\": \"J.K. Rowling\"}, {\"$set\": {\"amazon\": amaz}})\n",
    "collection.update_one({\"authors\": \"J.K. Rowling\"}, {\"$set\": {\"title\": jtitle}})\n",
    "\n",
    "#Stephen King\n",
    "\n",
    "stephen = collection.find_one({\"authors\": \"Stephen King\"})\n",
    "stephen_key = requests.get(f\"https://openlibrary.org/search/authors.json?q=stephen%20king\").json()[\"docs\"][0][\"key\"]\n",
    "stephen_info = requests.get(f\"https://openlibrary.org/authors/{stephen_key}.json\").json()\n",
    "amaz = []\n",
    "for i in stephen_info['source_records']:\n",
    "    if i[0:6] == 'amazon':\n",
    "        j = i.split(':')\n",
    "        amaz.append(j[1])\n",
    "collection.update_one({\"authors\": \"Stephen King\"}, {\"$set\": {\"bio\": stephen_info['bio']}})\n",
    "collection.update_one({\"authors\": \"Stephen King\"}, {\"$set\": {\"amazon\": amaz}})\n",
    "collection.update_one({\"authors\": \"Stephen King\"}, {\"$set\": {\"title\": stitle}})\n",
    "\n",
    "#Gabriel Garcia Marquez\n",
    "\n",
    "gabriel = collection.find_one({\"authors\": \"Gabriel García Márquez\"})\n",
    "gabriel_key = requests.get(f\"https://openlibrary.org/search/authors.json?q=gabriel%20garcia%20marquez\").json()[\"docs\"][0][\"key\"]\n",
    "gabriel_info = requests.get(f\"https://openlibrary.org/authors/{gabriel_key}.json\").json()\n",
    "amaz = []\n",
    "for i in gabriel_info['source_records']:\n",
    "    if i[0:6] == 'amazon':\n",
    "        j = i.split(':')\n",
    "        amaz.append(j[1])\n",
    "collection.update_one({\"authors\": \"Gabriel García Márquez\"}, {\"$set\": {\"bio\": gabriel_info['bio']}})\n",
    "collection.update_one({\"authors\": \"Gabriel García Márquez\"}, {\"$set\": {\"amazon\": amaz}})\n",
    "collection.update_one({\"authors\": \"Gabriel García Márquez\"}, {\"$set\": {\"title\": gtitle}})"
   ]
  },
  {
   "cell_type": "markdown",
   "id": "af0878f2",
   "metadata": {},
   "source": [
    "#### Downloading the images for the authors. Getting the address of the downloaded image to pass to the HTML. Using the jinja2 library to get the zip function to run a loop with 2 variables."
   ]
  },
  {
   "cell_type": "code",
   "execution_count": 5,
   "id": "1452d8dc",
   "metadata": {},
   "outputs": [
    {
     "name": "stdout",
     "output_type": "stream",
     "text": [
      "[%] Downloading Images to C:\\Users\\ADMIN\\Desktop\\BD\\Assignement\\2\\images\\JK Rowling\n",
      "\n",
      "\n",
      "[!!]Indexing page: 1\n",
      "\n",
      "[%] Indexed 1 Images on Page 1.\n",
      "\n",
      "===============================================\n",
      "\n",
      "[%] Downloading Image #1 from https://media1.popsugar-assets.com/files/thumbor/xoL-F0Mb8WkatkeD7ugAgRr6XbM/fit-in/2048xorig/filters:format_auto-!!-:strip_icc-!!-/2020/04/01/505/n/24155406/tmp_RPn3v6_71aa4c8805a83f07_GettyImages-1061365848.jpg\n",
      "[%] File Downloaded !\n",
      "\n",
      "\n",
      "\n",
      "[%] Done. Downloaded 1 images.\n",
      "[%] Downloading Images to C:\\Users\\ADMIN\\Desktop\\BD\\Assignement\\2\\images\\Stephen King\n",
      "\n",
      "\n",
      "[!!]Indexing page: 1\n",
      "\n",
      "[%] Indexed 1 Images on Page 1.\n",
      "\n",
      "===============================================\n",
      "\n",
      "[%] Downloading Image #1 from http://images4.fanpop.com/image/photos/20100000/Stephen-King-stephen-king-20117315-2086-2560.jpg\n",
      "[%] File Downloaded !\n",
      "\n",
      "\n",
      "\n",
      "[%] Done. Downloaded 1 images.\n",
      "[%] Downloading Images to C:\\Users\\ADMIN\\Desktop\\BD\\Assignement\\2\\images\\Gabriel Garcia Marquez\n",
      "\n",
      "\n",
      "[!!]Indexing page: 1\n",
      "\n",
      "[%] Indexed 1 Images on Page 1.\n",
      "\n",
      "===============================================\n",
      "\n",
      "[%] Downloading Image #1 from http://www.thefamouspeople.com/profiles/images/gabriel-garcia-marquez-2.jpg\n",
      "[!] Issue getting: http://www.thefamouspeople.com/profiles/images/gabriel-garcia-marquez-2.jpg\n",
      "[!] Error:: HTTP Error 404: Not Found\n",
      "\n",
      "\n",
      "[!!]Indexing page: 2\n",
      "\n",
      "[%] Indexed 35 Images on Page 2.\n",
      "\n",
      "===============================================\n",
      "\n",
      "[%] Downloading Image #1 from https://www.biography.com/.image/t_share/MTE5NDg0MDU0NzA5NTY5MDM5/gabriel-garcia-marquez-189132-1-402.jpg\n",
      "[!] Issue getting: https://www.biography.com/.image/t_share/MTE5NDg0MDU0NzA5NTY5MDM5/gabriel-garcia-marquez-189132-1-402.jpg\n",
      "[!] Error:: HTTP Error 404: Not Found\n",
      "[%] Downloading Image #1 from https://api.time.com/wp-content/uploads/2014/04/ap673104447282.jpg\n",
      "[%] File Downloaded !\n",
      "\n",
      "\n",
      "\n",
      "[%] Done. Downloaded 1 images.\n"
     ]
    }
   ],
   "source": [
    "from flask import Flask, render_template\n",
    "from bing_image_downloader import downloader\n",
    "import base64\n",
    "from jinja2 import Environment\n",
    "\n",
    "env = Environment()\n",
    "env.globals.update(zip=zip)\n",
    "\n",
    "\n",
    "downloader.download('JK Rowling', limit=1, output_dir='images', adult_filter_off=True, force_replace=False, timeout=60, verbose=True)\n",
    "downloader.download('Stephen King', limit=1, output_dir='images', adult_filter_off=True, force_replace=False, timeout=60, verbose=True)\n",
    "downloader.download('Gabriel Garcia Marquez', limit=1, output_dir='images', adult_filter_off=True, force_replace=False, timeout=60, verbose=True)\n",
    "with open('images/JK Rowling/Image_1.jpg', 'rb') as f:\n",
    "    url1 = 'data:image/jpeg;base64,' + base64.b64encode(f.read()).decode('utf-8')\n",
    "with open('images/Stephen King/Image_1.jpg', 'rb') as f:\n",
    "    url2 = 'data:image/jpeg;base64,' + base64.b64encode(f.read()).decode('utf-8')\n",
    "with open('images/Gabriel Garcia Marquez/Image_1.jpg', 'rb') as f:\n",
    "    url3 = 'data:image/jpeg;base64,' + base64.b64encode(f.read()).decode('utf-8')\n",
    "\n",
    "app = Flask(\"Assignment_2\")\n",
    "\n",
    "@app.route(\"/\")\n",
    "def home():\n",
    "    return render_template(\"index.html\",image_url1 =url1, image_url2 = url2, image_url3 = url3)\n",
    "\n",
    "@app.route(\"/author/JK Rowling\")\n",
    "def jk_rowling():\n",
    "    # Get JK Rowling's document from MongoDB\n",
    "    jk_rowling_doc = collection.find_one({\"authors\": \"J.K. Rowling\"})\n",
    "    # Render template with JK Rowling's info\n",
    "    filename = '/dataset/J.K. Rowling\\Image_1.jpg'\n",
    "    return render_template(\"authors.html\", author_info_name = jk_rowling_doc['authors'], author_info_bio = jk_rowling_doc['bio'], author_info_books = jk_rowling_doc['amazon'],image_url=url1, title_name = jk_rowling_doc['title'],zip=zip)\n",
    "\n",
    "@app.route(\"/author/Stephen King\")\n",
    "def stephen_king():\n",
    "    stephen_doc = collection.find_one({\"authors\": \"Stephen King\"})\n",
    "    return render_template(\"authors.html\", author_info_name = stephen_doc['authors'], author_info_bio = stephen_doc['bio'], author_info_books = stephen_doc['amazon'],image_url=url2, title_name = stephen_doc['title'],zip = zip)\n",
    "\n",
    "@app.route(\"/author/Gabriel Garcia Marquez\")\n",
    "def gabriel_garcia_marquez():\n",
    "    gabriel_doc = collection.find_one({\"authors\": \"Gabriel García Márquez\"})\n",
    "    return render_template(\"authors.html\", author_info_name = gabriel_doc['authors'], author_info_bio = gabriel_doc['bio'], author_info_books = gabriel_doc['amazon'],image_url=url3, title_name = gabriel_doc['title'], zip = zip )"
   ]
  },
  {
   "cell_type": "markdown",
   "id": "68f089b9",
   "metadata": {},
   "source": [
    "#### Running the flask application"
   ]
  },
  {
   "cell_type": "code",
   "execution_count": 6,
   "id": "686d71b7",
   "metadata": {
    "scrolled": false
   },
   "outputs": [
    {
     "name": "stdout",
     "output_type": "stream",
     "text": [
      " * Serving Flask app \"Assignment_2\" (lazy loading)\n",
      " * Environment: production\n",
      "\u001b[31m   WARNING: This is a development server. Do not use it in a production deployment.\u001b[0m\n",
      "\u001b[2m   Use a production WSGI server instead.\u001b[0m\n",
      " * Debug mode: off\n"
     ]
    },
    {
     "name": "stderr",
     "output_type": "stream",
     "text": [
      " * Running on http://localhost:5001/ (Press CTRL+C to quit)\n",
      "127.0.0.1 - - [15/Mar/2023 16:04:52] \"GET / HTTP/1.1\" 200 -\n",
      "127.0.0.1 - - [15/Mar/2023 16:04:53] \"GET /author/JK%20Rowling HTTP/1.1\" 200 -\n",
      "127.0.0.1 - - [15/Mar/2023 16:04:56] \"GET /author/Stephen%20King HTTP/1.1\" 200 -\n",
      "127.0.0.1 - - [15/Mar/2023 16:04:57] \"GET /author/Gabriel%20Garcia%20Marquez HTTP/1.1\" 200 -\n"
     ]
    }
   ],
   "source": [
    "if __name__ == \"__main__\":\n",
    "    app.run(host='localhost', port=5001)"
   ]
  },
  {
   "cell_type": "markdown",
   "id": "52393198",
   "metadata": {},
   "source": [
    "#### Dropping the collection"
   ]
  },
  {
   "cell_type": "code",
   "execution_count": 7,
   "id": "b2e69119",
   "metadata": {},
   "outputs": [],
   "source": [
    "collection.drop()"
   ]
  },
  {
   "cell_type": "markdown",
   "id": "f94bcbf3",
   "metadata": {},
   "source": [
    "#### Code for collection of the titles"
   ]
  },
  {
   "cell_type": "code",
   "execution_count": null,
   "id": "f19407e0",
   "metadata": {},
   "outputs": [],
   "source": [
    "from selenium import webdriver\n",
    "driver = webdriver.Chrome()\n",
    "jtitle = []\n",
    "stitle = []\n",
    "gtitle = []\n",
    "jk = collection.find_one({\"authors\": \"J.K. Rowling\"})\n",
    "for i in jk['amazon']:\n",
    "    driver.get(\"https://www.amazon.com/dp/\"+i)\n",
    "    jtitle.append(driver.title)\n",
    "stephen = collection.find_one({\"authors\": \"Stephen King\"})\n",
    "for i in stephen['amazon']:\n",
    "    driver.get(\"https://www.amazon.com/dp/\"+i)\n",
    "    stitle.append(driver.title)\n",
    "gabriel = collection.find_one({\"authors\": \"Gabriel García Márquez\"})\n",
    "for i in gabriel['amazon']:\n",
    "    driver.get(\"https://www.amazon.com/dp/\"+i)\n",
    "    gtitle.append(driver.title)\n"
   ]
  },
  {
   "cell_type": "code",
   "execution_count": null,
   "id": "5226a2b5",
   "metadata": {},
   "outputs": [],
   "source": [
    "!pip install jinja2"
   ]
  }
 ],
 "metadata": {
  "kernelspec": {
   "display_name": "Python 3 (ipykernel)",
   "language": "python",
   "name": "python3"
  },
  "language_info": {
   "codemirror_mode": {
    "name": "ipython",
    "version": 3
   },
   "file_extension": ".py",
   "mimetype": "text/x-python",
   "name": "python",
   "nbconvert_exporter": "python",
   "pygments_lexer": "ipython3",
   "version": "3.9.12"
  }
 },
 "nbformat": 4,
 "nbformat_minor": 5
}
